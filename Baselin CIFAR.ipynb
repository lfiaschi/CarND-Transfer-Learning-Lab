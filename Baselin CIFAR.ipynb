{
 "cells": [
  {
   "cell_type": "code",
   "execution_count": 1,
   "metadata": {
    "collapsed": false
   },
   "outputs": [
    {
     "name": "stderr",
     "output_type": "stream",
     "text": [
      "Using TensorFlow backend.\n",
      "/home/carnd/anaconda3/envs/carnd-term1/lib/python3.5/site-packages/sklearn/cross_validation.py:44: DeprecationWarning: This module was deprecated in version 0.18 in favor of the model_selection module into which all the refactored classes and functions are moved. Also note that the interface of the new CV iterators are different from that of this module. This module will be removed in 0.20.\n",
      "  \"This module will be removed in 0.20.\", DeprecationWarning)\n"
     ]
    }
   ],
   "source": [
    "import keras\n",
    "from keras.models import Sequential\n",
    "from keras.layers import Dense, Dropout, Flatten\n",
    "from keras.layers import Conv2D, MaxPooling2D\n",
    "import numpy as np\n",
    "from sklearn.cross_validation import train_test_split"
   ]
  },
  {
   "cell_type": "code",
   "execution_count": 2,
   "metadata": {
    "collapsed": true
   },
   "outputs": [],
   "source": [
    "import keras_tqdm"
   ]
  },
  {
   "cell_type": "code",
   "execution_count": 3,
   "metadata": {
    "collapsed": false
   },
   "outputs": [],
   "source": [
    "from keras.datasets import cifar10\n",
    "(X_train, y_train), (X_test, y_test) = cifar10.load_data()\n",
    "# y_train.shape is 2d, (50000, 1). While Keras is smart enough to handle this\n",
    "# it's a good idea to flatten the array.\n",
    "y_train = y_train.reshape(-1)\n",
    "y_test = y_test.reshape(-1)\n",
    "\n",
    "(X_train,X_valid, y_train, y_valid) = train_test_split(X_train,y_train, train_size=0.7)"
   ]
  },
  {
   "cell_type": "code",
   "execution_count": 4,
   "metadata": {
    "collapsed": false
   },
   "outputs": [
    {
     "data": {
      "text/plain": [
       "(15000,)"
      ]
     },
     "execution_count": 4,
     "metadata": {},
     "output_type": "execute_result"
    }
   ],
   "source": [
    "y_valid.shape"
   ]
  },
  {
   "cell_type": "code",
   "execution_count": 5,
   "metadata": {
    "collapsed": false
   },
   "outputs": [],
   "source": [
    "from keras_tqdm import TQDMNotebookCallback"
   ]
  },
  {
   "cell_type": "code",
   "execution_count": 6,
   "metadata": {
    "collapsed": false
   },
   "outputs": [],
   "source": [
    "def LeNetKeras(input_shape,num_classes,dropout=.5, metrics=['accuracy']):\n",
    "    \"\"\"\n",
    "    Implement classic lenet architecture in keras\n",
    "    \"\"\"\n",
    "    \n",
    "    model = Sequential()\n",
    "    model.add(Conv2D(6, kernel_size=(5, 5),\n",
    "                     activation='relu',\n",
    "                     input_shape=input_shape))\n",
    "    model.add(MaxPooling2D(pool_size=(2, 2)))\n",
    "    \n",
    "    model.add(Conv2D(16, (5, 5), activation='relu'))\n",
    "    \n",
    "    model.add(MaxPooling2D(pool_size=(2, 2)))\n",
    "    \n",
    "    model.add(Flatten())\n",
    "    model.add(Dense(128, activation='relu'))\n",
    "    model.add(Dropout(dropout))\n",
    "    model.add(Dense(84, activation='relu'))\n",
    "    model.add(Dropout(dropout))\n",
    "    model.add(Dense(num_classes, activation='softmax'))\n",
    "\n",
    "    model.compile(loss=keras.losses.sparse_categorical_crossentropy,\n",
    "                  optimizer=keras.optimizers.Adam(),\n",
    "                  metrics=['accuracy'])\n",
    "    \n",
    "    return model"
   ]
  },
  {
   "cell_type": "code",
   "execution_count": 7,
   "metadata": {
    "collapsed": true
   },
   "outputs": [],
   "source": [
    "batch_size=128\n",
    "epochs=100"
   ]
  },
  {
   "cell_type": "code",
   "execution_count": 26,
   "metadata": {
    "collapsed": false
   },
   "outputs": [],
   "source": [
    "model = LeNetKeras((32,32,3),10,dropout=.4)"
   ]
  },
  {
   "cell_type": "code",
   "execution_count": 27,
   "metadata": {
    "collapsed": true
   },
   "outputs": [],
   "source": [
    "from keras.callbacks import EarlyStopping\n",
    "early_stopping = EarlyStopping(monitor='val_loss', patience=10)"
   ]
  },
  {
   "cell_type": "code",
   "execution_count": 28,
   "metadata": {
    "collapsed": false,
    "scrolled": false
   },
   "outputs": [
    {
     "name": "stdout",
     "output_type": "stream",
     "text": [
      "Train on 35000 samples, validate on 15000 samples\n",
      "Epoch 1/100\n",
      "4s - loss: 2.6186 - acc: 0.1185 - val_loss: 2.2456 - val_acc: 0.1657\n",
      "Epoch 2/100\n",
      "3s - loss: 2.2470 - acc: 0.1595 - val_loss: 2.1717 - val_acc: 0.2020\n",
      "Epoch 3/100\n",
      "3s - loss: 2.1945 - acc: 0.1807 - val_loss: 2.1599 - val_acc: 0.1935\n",
      "Epoch 4/100\n",
      "3s - loss: 2.1441 - acc: 0.2018 - val_loss: 2.0532 - val_acc: 0.2590\n",
      "Epoch 5/100\n",
      "3s - loss: 2.0585 - acc: 0.2444 - val_loss: 1.9167 - val_acc: 0.3037\n",
      "Epoch 6/100\n",
      "3s - loss: 1.9366 - acc: 0.2858 - val_loss: 1.9139 - val_acc: 0.2959\n",
      "Epoch 7/100\n",
      "3s - loss: 1.8476 - acc: 0.3188 - val_loss: 1.7824 - val_acc: 0.3580\n",
      "Epoch 8/100\n",
      "3s - loss: 1.7763 - acc: 0.3441 - val_loss: 1.6806 - val_acc: 0.3902\n",
      "Epoch 9/100\n",
      "3s - loss: 1.7275 - acc: 0.3682 - val_loss: 1.7434 - val_acc: 0.3823\n",
      "Epoch 10/100\n",
      "3s - loss: 1.6802 - acc: 0.3877 - val_loss: 1.5709 - val_acc: 0.4341\n",
      "Epoch 11/100\n",
      "3s - loss: 1.6253 - acc: 0.4052 - val_loss: 1.5662 - val_acc: 0.4471\n",
      "Epoch 12/100\n",
      "3s - loss: 1.5936 - acc: 0.4226 - val_loss: 1.5122 - val_acc: 0.4545\n",
      "Epoch 13/100\n",
      "3s - loss: 1.5615 - acc: 0.4299 - val_loss: 1.5795 - val_acc: 0.4453\n",
      "Epoch 14/100\n",
      "3s - loss: 1.5174 - acc: 0.4487 - val_loss: 1.4717 - val_acc: 0.4771\n",
      "Epoch 15/100\n",
      "3s - loss: 1.4910 - acc: 0.4619 - val_loss: 1.4449 - val_acc: 0.4875\n",
      "Epoch 16/100\n",
      "3s - loss: 1.4615 - acc: 0.4734 - val_loss: 1.4800 - val_acc: 0.4563\n",
      "Epoch 17/100\n",
      "3s - loss: 1.4370 - acc: 0.4830 - val_loss: 1.4683 - val_acc: 0.4768\n",
      "Epoch 18/100\n",
      "3s - loss: 1.4310 - acc: 0.4871 - val_loss: 1.4312 - val_acc: 0.4990\n",
      "Epoch 19/100\n",
      "3s - loss: 1.4284 - acc: 0.4887 - val_loss: 1.4455 - val_acc: 0.4897\n",
      "Epoch 20/100\n",
      "3s - loss: 1.3900 - acc: 0.5008 - val_loss: 1.3925 - val_acc: 0.5074\n",
      "Epoch 21/100\n",
      "3s - loss: 1.3706 - acc: 0.5048 - val_loss: 1.3848 - val_acc: 0.5117\n",
      "Epoch 22/100\n",
      "3s - loss: 1.3547 - acc: 0.5133 - val_loss: 1.4025 - val_acc: 0.5041\n",
      "Epoch 23/100\n",
      "3s - loss: 1.3438 - acc: 0.5197 - val_loss: 1.3982 - val_acc: 0.5121\n",
      "Epoch 24/100\n",
      "3s - loss: 1.3230 - acc: 0.5246 - val_loss: 1.3724 - val_acc: 0.5197\n",
      "Epoch 25/100\n",
      "3s - loss: 1.3154 - acc: 0.5272 - val_loss: 1.4760 - val_acc: 0.4925\n",
      "Epoch 26/100\n",
      "3s - loss: 1.3011 - acc: 0.5324 - val_loss: 1.3741 - val_acc: 0.5116\n",
      "Epoch 27/100\n",
      "3s - loss: 1.2838 - acc: 0.5392 - val_loss: 1.3674 - val_acc: 0.5177\n",
      "Epoch 28/100\n",
      "3s - loss: 1.2686 - acc: 0.5482 - val_loss: 1.3556 - val_acc: 0.5249\n",
      "Epoch 29/100\n",
      "3s - loss: 1.2483 - acc: 0.5503 - val_loss: 1.3691 - val_acc: 0.5177\n",
      "Epoch 30/100\n",
      "3s - loss: 1.2378 - acc: 0.5542 - val_loss: 1.3564 - val_acc: 0.5269\n",
      "Epoch 31/100\n",
      "3s - loss: 1.2332 - acc: 0.5591 - val_loss: 1.3749 - val_acc: 0.5242\n",
      "Epoch 32/100\n",
      "3s - loss: 1.2288 - acc: 0.5585 - val_loss: 1.3509 - val_acc: 0.5315\n",
      "Epoch 33/100\n",
      "3s - loss: 1.2207 - acc: 0.5639 - val_loss: 1.3650 - val_acc: 0.5237\n",
      "Epoch 34/100\n",
      "3s - loss: 1.2115 - acc: 0.5679 - val_loss: 1.3546 - val_acc: 0.5275\n",
      "Epoch 35/100\n",
      "3s - loss: 1.1911 - acc: 0.5697 - val_loss: 1.3495 - val_acc: 0.5264\n",
      "Epoch 36/100\n",
      "3s - loss: 1.1891 - acc: 0.5725 - val_loss: 1.3772 - val_acc: 0.5185\n",
      "Epoch 37/100\n",
      "3s - loss: 1.1810 - acc: 0.5761 - val_loss: 1.3406 - val_acc: 0.5282\n",
      "Epoch 38/100\n",
      "3s - loss: 1.1853 - acc: 0.5779 - val_loss: 1.3643 - val_acc: 0.5279\n",
      "Epoch 39/100\n",
      "3s - loss: 1.1735 - acc: 0.5811 - val_loss: 1.3630 - val_acc: 0.5309\n",
      "Epoch 40/100\n",
      "3s - loss: 1.1541 - acc: 0.5864 - val_loss: 1.3558 - val_acc: 0.5332\n",
      "Epoch 41/100\n",
      "3s - loss: 1.1555 - acc: 0.5877 - val_loss: 1.3828 - val_acc: 0.5193\n",
      "Epoch 42/100\n",
      "3s - loss: 1.1532 - acc: 0.5876 - val_loss: 1.3790 - val_acc: 0.5283\n",
      "Epoch 43/100\n",
      "3s - loss: 1.1442 - acc: 0.5886 - val_loss: 1.3780 - val_acc: 0.5287\n",
      "Epoch 44/100\n",
      "3s - loss: 1.1297 - acc: 0.5954 - val_loss: 1.3676 - val_acc: 0.5276\n",
      "Epoch 45/100\n",
      "3s - loss: 1.1193 - acc: 0.5983 - val_loss: 1.3857 - val_acc: 0.5229\n",
      "Epoch 46/100\n",
      "3s - loss: 1.1283 - acc: 0.5949 - val_loss: 1.3594 - val_acc: 0.5343\n",
      "Epoch 47/100\n",
      "3s - loss: 1.1112 - acc: 0.6000 - val_loss: 1.3876 - val_acc: 0.5263\n",
      "Epoch 48/100\n",
      "3s - loss: 1.1160 - acc: 0.5973 - val_loss: 1.4246 - val_acc: 0.5113\n"
     ]
    }
   ],
   "source": [
    "hh = model.fit(X_train, y_train,\n",
    "          batch_size=batch_size,\n",
    "          epochs=epochs,\n",
    "          verbose=2,\n",
    "          validation_data=(X_valid, y_valid), \n",
    "          callbacks=[early_stopping])"
   ]
  },
  {
   "cell_type": "code",
   "execution_count": 15,
   "metadata": {
    "collapsed": true
   },
   "outputs": [],
   "source": [
    "%matplotlib inline"
   ]
  },
  {
   "cell_type": "code",
   "execution_count": 16,
   "metadata": {
    "collapsed": true
   },
   "outputs": [],
   "source": [
    "from matplotlib import pyplot as plt"
   ]
  },
  {
   "cell_type": "code",
   "execution_count": 17,
   "metadata": {
    "collapsed": false
   },
   "outputs": [
    {
     "data": {
      "text/plain": [
       "<matplotlib.legend.Legend at 0x7f1ecc3215c0>"
      ]
     },
     "execution_count": 17,
     "metadata": {},
     "output_type": "execute_result"
    },
    {
     "data": {
      "image/png": "[encoded data removed]",
      "text/plain": [
       "<matplotlib.figure.Figure at 0x7f1ece373d30>"
      ]
     },
     "metadata": {},
     "output_type": "display_data"
    }
   ],
   "source": [
    "plt.figure(figsize=(12,6))\n",
    "plt.subplot(1,2,1)\n",
    "\n",
    "plt.plot(hh.history['loss'])\n",
    "plt.plot(hh.history['val_loss'])\n",
    "plt.legend(['loss','validation_loss'])\n",
    "plt.subplot(1,2,2)\n",
    "plt.plot(hh.history['acc'])\n",
    "plt.plot(hh.history['val_acc'])\n",
    "plt.legend(['accuracy','validation_accuracy'])"
   ]
  },
  {
   "cell_type": "code",
   "execution_count": 14,
   "metadata": {
    "collapsed": false,
    "scrolled": false
   },
   "outputs": [
    {
     "name": "stdout",
     "output_type": "stream",
     "text": [
      "Test loss: 1.41532736893\n",
      "Test accuracy: 0.5015\n"
     ]
    }
   ],
   "source": [
    "score = model.evaluate(X_test, y_test, verbose=0)\n",
    "print('Test loss:', score[0])\n",
    "print('Test accuracy:', score[1])"
   ]
  },
  {
   "cell_type": "code",
   "execution_count": null,
   "metadata": {
    "collapsed": true
   },
   "outputs": [],
   "source": [
    "import gc; gc.collect();"
   ]
  },
  {
   "cell_type": "code",
   "execution_count": null,
   "metadata": {
    "collapsed": true
   },
   "outputs": [],
   "source": []
  }
 ],
 "metadata": {
  "kernelspec": {
   "display_name": "Python 3",
   "language": "python",
   "name": "python3"
  },
  "language_info": {
   "codemirror_mode": {
    "name": "ipython",
    "version": 3
   },
   "file_extension": ".py",
   "mimetype": "text/x-python",
   "name": "python",
   "nbconvert_exporter": "python",
   "pygments_lexer": "ipython3",
   "version": "3.5.2"
  },
  "widgets": {
   "state": {
    "000c33ded91749e99cc182b2337935c7": {
     "views": []
    },
    "009d3a8690364fea81e159c357319d06": {
     "views": [
      {
       "cell_index": 8
      }
     ]
    },
    "00e81a2c92d44d25b8969b31e8528208": {
     "views": []
    },
    "01dfb4c577b949f1a0df7427e2470b4e": {
     "views": []
    },
    "026e538c29e2471d9bfb0adedb6714d5": {
     "views": []
    },
    "02d0bdc0265540de870bb56fd7d930c8": {
     "views": []
    },
    "03a38e561d264897b2724e14a7c98c87": {
     "views": []
    },
    "046e72c5a1b34e628ce6cfd0cbbf4af7": {
     "views": []
    },
    "04d77455388f4e62a4d9e01382eb2cf2": {
     "views": []
    },
    "064e07c6c5e24d1892bdb1e23892ba7a": {
     "views": []
    },
    "06667aa638db478088c32af4d310e561": {
     "views": []
    },
    "06cf31362b4940d69f968a34b1c3849d": {
     "views": []
    },
    "077e3ec4676544d1b7b508d1b8d0868c": {
     "views": []
    },
    "078b56d894364986827b2671c378457b": {
     "views": []
    },
    "079410a5e7e040f7b6610e8e8260bdbb": {
     "views": [
      {
       "cell_index": 8
      }
     ]
    },
    "097e2a219ceb4d8a9f01559e1b2750cd": {
     "views": []
    },
    "09e4fd36f7b944ec8070dc824ab4257d": {
     "views": []
    },
    "09f4c59d9a8d47f99e03af9913028c7c": {
     "views": []
    },
    "0ac3536be3814e82b1eb0d7362140921": {
     "views": []
    },
    "0b44691ad773499b902430104c78ec77": {
     "views": []
    },
    "0b454c9dc8be47548c41c57443aa4d42": {
     "views": [
      {
       "cell_index": 8
      }
     ]
    },
    "0b903aa657b04c44af5a29f0c1ee6054": {
     "views": []
    },
    "0bb33fc9eee6463395fd90890541916e": {
     "views": []
    },
    "0c4c2df5b8dd4ee4bafb3d45605c904a": {
     "views": []
    },
    "0cda30fa0221468793298d26f2eefd65": {
     "views": []
    },
    "0d0d10d045ef42dc991e395a6a6f5af5": {
     "views": []
    },
    "0eb1c3af901e4a3db4c02193e2d3aae0": {
     "views": []
    },
    "0faa4759163c4a4c99c6d8036a119c98": {
     "views": []
    },
    "118ded8fba104a24a3a9b051bb61e2e3": {
     "views": []
    },
    "120a2686b76343a59edae4cd297cf36c": {
     "views": []
    },
    "1243375683194773a58a49eca705d463": {
     "views": []
    },
    "12567e401ccf44d8a04cebcbaccd2aba": {
     "views": []
    },
    "126ed6728ed443f9ab8536d22af646b9": {
     "views": []
    },
    "12d00981cf0b4c2cb1286325c25f3ecb": {
     "views": []
    },
    "134135e77ae84724900c24085f2778e6": {
     "views": []
    },
    "13aa5a4ff6544f0f8e49c3d98720ee17": {
     "views": []
    },
    "140b47c74b3a44cd944e92368c1dba4d": {
     "views": []
    },
    "143a81648031448bacc2043324ce390b": {
     "views": []
    },
    "150ffd0235d449df81720386e4bdf1d6": {
     "views": []
    },
    "16080197cde843c48026f0706daf7897": {
     "views": []
    },
    "16d9e9abae2c47bbb8892d543245bc29": {
     "views": []
    },
    "16f695a72fd443b0bc46660ce748ca11": {
     "views": []
    },
    "1734cdd331e94cfd95f9e68f0eebee63": {
     "views": []
    },
    "17a4c592775c48a8a5821b22429e8f2c": {
     "views": []
    },
    "17a73d47643340c58fc28f31282bb4f1": {
     "views": []
    },
    "18e540c74b8747e58e917a53bae38f7a": {
     "views": []
    },
    "18fe3a8215af4282b900c3e3e82a5989": {
     "views": []
    },
    "1992a89c06ce45539dcc933d0b779bd8": {
     "views": []
    },
    "1ab5b7be51af41df9f1e814fb330fbc4": {
     "views": []
    },
    "1aee2d385eab45f4a71ca3481549dd46": {
     "views": [
      {
       "cell_index": 8
      }
     ]
    },
    "1ba6a93ddc574c87894739a1c00ab5ec": {
     "views": []
    },
    "1c02c356fbfa41819a443789c29cf7f9": {
     "views": []
    },
    "1c228321b53c4336b81842f9f124628f": {
     "views": []
    },
    "1cc63b0ab4154058813e3ab42db7d1ce": {
     "views": []
    },
    "1d15ae84520c46c590f8c31a7cca6270": {
     "views": []
    },
    "1f52fedd2cc5443ab660d63016c704c4": {
     "views": []
    },
    "201d466a98b745c985aa13da995ed85e": {
     "views": []
    },
    "20cae9af54ca4721a1dee908f0870cb1": {
     "views": []
    },
    "2133c234b4b4405592e4ead8b5b27bb0": {
     "views": []
    },
    "21ce3cbb01174f08bdbb35512d8a922b": {
     "views": []
    },
    "21de0974500b4d3ea331c159d8014035": {
     "views": []
    },
    "227f90f4d12a497c9c939c253fbcc578": {
     "views": []
    },
    "22aec405f0014f71a1b6dc846761931a": {
     "views": []
    },
    "22d34703b09446289d5d6de291c8f445": {
     "views": []
    },
    "23624a3388d947059eb9329c7a697109": {
     "views": []
    },
    "23d8b1e48e6b4d1aaec0e1f5cd073893": {
     "views": []
    },
    "24a64f4c9a844fafa30efe4eca75a0d9": {
     "views": []
    },
    "24bdacb3b2a84d99ab2984a0d4b5efc1": {
     "views": []
    },
    "24e8b139e4754b0cb94f94f8f29689c1": {
     "views": []
    },
    "253e1799e0b84950a004a5c04ba0a96c": {
     "views": []
    },
    "255cc1afc3ab490e94efd462951d1b29": {
     "views": []
    },
    "266740be86b445e4bd9ecb88939e7c07": {
     "views": []
    },
    "2797dbb6478749ed8f851d1085b167dd": {
     "views": []
    },
    "281be858c18e44da8caef28212bb263e": {
     "views": []
    },
    "2846dc3515394976b5843d1df4c402d3": {
     "views": []
    },
    "29b1635a6e96427d888b8cda1323a906": {
     "views": []
    },
    "2a76520cdf79494680b28819f877f664": {
     "views": []
    },
    "2b591770a81a4990802b8b23c7f5f166": {
     "views": []
    },
    "2b7092209b9a45d9a0d79bfc4ffa877a": {
     "views": []
    },
    "2c0f02dbf29c4233b09fbd96c383da40": {
     "views": []
    },
    "2c46085deafe4673bc15eab6acd9c13e": {
     "views": []
    },
    "2cbebe2590cc494a975b4bea785b5a25": {
     "views": []
    },
    "2d56dbf2790c49fab249a3b18117355f": {
     "views": []
    },
    "2ee3dc15aed543d19073fb2986a12b3c": {
     "views": []
    },
    "2eff13027f7a4ef3970a9eed5443952f": {
     "views": [
      {
       "cell_index": 8
      }
     ]
    },
    "2fb432c778504072b69f103bcb0bd421": {
     "views": []
    },
    "3081ce0a295849e79f8979c279a9ba8e": {
     "views": []
    },
    "315623b39a874bbb80169ea03f5cc38c": {
     "views": []
    },
    "3167db76c17e446fb629742cdde9cb10": {
     "views": []
    },
    "32542ada5a0a4f7fa3257405ec42380b": {
     "views": []
    },
    "33792f34ffa549efaec661c8b5efdacb": {
     "views": []
    },
    "338a03357dc848dda2309bddd102fad4": {
     "views": []
    },
    "342463a3f3e748879ff704ac5f3ffa7f": {
     "views": []
    },
    "34a7aa9ed5c94e21917d729146d3f397": {
     "views": []
    },
    "34eedc832b174cf9b737f3efa8f925bc": {
     "views": []
    },
    "35d94179079e4632be4ee3ff3f017b32": {
     "views": []
    },
    "3649db9ca18f406aae30d482aba64e69": {
     "views": []
    },
    "36c21c376e27408eb797ed3c883939d4": {
     "views": []
    },
    "370d38bafc8d41ce8439da4aed86ecc1": {
     "views": [
      {
       "cell_index": 8
      }
     ]
    },
    "37625bdbae8243a0b73f6643c4a66d5a": {
     "views": [
      {
       "cell_index": 8
      }
     ]
    },
    "379344a981ce4d56ad51917405b85281": {
     "views": []
    },
    "37faba0ff82445b8a3e7d0db30525e3c": {
     "views": []
    },
    "37ff2d209a92457aa7c975e46a381589": {
     "views": []
    },
    "380345ebaf9b4fbf94ebd3b4618a708d": {
     "views": []
    },
    "380602ab40334a8b8ed519ca790c0d44": {
     "views": []
    },
    "381453b2796643b2bf4736615ffe32c4": {
     "views": []
    },
    "38663a4947044474aa58115b9cd1affc": {
     "views": [
      {
       "cell_index": 8
      }
     ]
    },
    "390c1123b3e643ce9a6b8bfa345fdb20": {
     "views": []
    },
    "391ee09c17b34e57848d8cc09f30d2f6": {
     "views": []
    },
    "39e01fcb52bd47ee98490d225e5ab7ab": {
     "views": []
    },
    "3a7aa7f46db449b0abbf57dbee64781b": {
     "views": []
    },
    "3b446a6522cc47da8f4732134ca4b489": {
     "views": []
    },
    "3b51ef2e43a94fadac51bd09d2a30645": {
     "views": []
    },
    "3b5bf6f687244a7991dfbad89d461127": {
     "views": []
    },
    "3ba013a1c7694a08894b8df44be7ba05": {
     "views": []
    },
    "3df393ad66a44b55a6c5a9b35a2e4517": {
     "views": []
    },
    "3e2fb8d74fbb474b8a072f1f3da3a413": {
     "views": []
    },
    "3e6d7c4c4e2b44ad8de527d23bee798a": {
     "views": []
    },
    "3eb6575060fd49ec87544db7cb1adde2": {
     "views": []
    },
    "3ecbb0206f29484680a422475da86232": {
     "views": []
    },
    "4005f95ca6c7421eb040ee6c8cf0fdaa": {
     "views": []
    },
    "40d35d57d1f345ca8ac605295deb7e1c": {
     "views": [
      {
       "cell_index": 8
      }
     ]
    },
    "42645c1def074c08959bb1b5ce762703": {
     "views": []
    },
    "43bfe6144a1a4ad5a5aeb389e328ba4f": {
     "views": []
    },
    "448275d8a6d647db9902a1d9935c62d0": {
     "views": []
    },
    "451a74e15f234a46b67f56dfe1834d5a": {
     "views": [
      {
       "cell_index": 9
      }
     ]
    },
    "46255b72da3144259f7a8e6766f17248": {
     "views": []
    },
    "4740bb99e9ab451ea30007a42f718b96": {
     "views": []
    },
    "48318485bca74e708f3b65288a159073": {
     "views": [
      {
       "cell_index": 8
      }
     ]
    },
    "491d54caa05e4c809e2d35af30642329": {
     "views": []
    },
    "49d85ba7515b4e4ca0bba56a2a791408": {
     "views": []
    },
    "4a289b3993fc470dbeba9a393d9d700b": {
     "views": []
    },
    "4aa6f4db32254b0b95f7805d6ccca6d2": {
     "views": []
    },
    "4ac472a285b347418593ff96d30c16e7": {
     "views": []
    },
    "4b34ecb1407e489a8d3c4868c7ffa6cd": {
     "views": []
    },
    "4d6cc211e83b402ea9601be3aba01fc5": {
     "views": []
    },
    "4da334ca272d44bab7d115c7200b721e": {
     "views": []
    },
    "4e33d792099840f0ade5a821fa0e5724": {
     "views": []
    },
    "4f261f21307146f49e58f7c698853dd7": {
     "views": []
    },
    "5189ffb8d7ef4e6883e604e2c3e3d7a0": {
     "views": []
    },
    "518b8406fabd49dc92d9ed954f3ec31e": {
     "views": []
    },
    "51e8b5d8673c4353a0ef8f805baa5d44": {
     "views": []
    },
    "51f10941bf064282ab3c87872175cb13": {
     "views": []
    },
    "51ff7512a70f4f579213cf982b111e79": {
     "views": []
    },
    "528ced3bda9d45d98661ad37737a03cf": {
     "views": []
    },
    "5292c4b94ae048a6a6d0c3c25485da9f": {
     "views": []
    },
    "52a6ccd0800b4ac5a7096b67b4459c92": {
     "views": []
    },
    "52f2dda4be704d7b97ba0daa19f7eade": {
     "views": []
    },
    "52fd1c610b23476fb763282eef951996": {
     "views": []
    },
    "53447e6ef1d740009d218ae6692a7fd6": {
     "views": []
    },
    "53a0a019d5024c388f847e1531eeae38": {
     "views": []
    },
    "53fcaeac467e490ebb60ba9a9e888e72": {
     "views": []
    },
    "5402e70808824a0ebc80d853611aa3b3": {
     "views": []
    },
    "5439e3d25fde468abb024369e51ddbf4": {
     "views": []
    },
    "546e33866bdf42f58fe9487324bb1f04": {
     "views": []
    },
    "5474739377ce4db18088d08b7bc7d2d1": {
     "views": []
    },
    "54f71afd9d744463a344f40eb2b2d422": {
     "views": []
    },
    "5533e86b643340ab97fd32c86120f009": {
     "views": []
    },
    "55448503a2c84ebb8ce84040dcbbdb0c": {
     "views": []
    },
    "55bf0fd18946403591e7c509cf65a842": {
     "views": []
    },
    "55d5145b0bdc4a76b0366728bfdc2264": {
     "views": [
      {
       "cell_index": 8
      }
     ]
    },
    "5630ce824ed54a5fa9e7c69ef1f5f5fc": {
     "views": [
      {
       "cell_index": 9
      }
     ]
    },
    "566f4c87307a4acda40446a61195c833": {
     "views": []
    },
    "566f7592f7944aa695cb8e34e8370d0c": {
     "views": []
    },
    "56820dfcdbd04a5b988d7c04b38ceeee": {
     "views": []
    },
    "56b6ee21c25c435b84fb7c44678d16b8": {
     "views": []
    },
    "56c9ceaa10b44afe9f48bf41a4420fc1": {
     "views": []
    },
    "56d3d7346b8644dcb61ac169509586f0": {
     "views": []
    },
    "57072ab66c7c4724af5ce139d4137cf4": {
     "views": []
    },
    "57cccdd41e634964afe82d237ca4898b": {
     "views": []
    },
    "5829115b86b9487fb08d56f72ccc0614": {
     "views": []
    },
    "591dfa32aae3498db41fd8b5f9d6e941": {
     "views": []
    },
    "591f8e08503e41649a39fdf2e042baa2": {
     "views": []
    },
    "5922a1d783d044c48221715a91d2f726": {
     "views": []
    },
    "59cbdcc3a2334c71bd8c9c26ea7ab8ba": {
     "views": [
      {
       "cell_index": 8
      }
     ]
    },
    "5a09bbf1a6a440f6ba3ec8a80de75f02": {
     "views": []
    },
    "5c56d4d4d466444db064ea9b2f5ce417": {
     "views": []
    },
    "5c6c4acf28304d75965fdce2abe62181": {
     "views": []
    },
    "5cb8d66c17de4586a98762f5dd55b6f7": {
     "views": []
    },
    "5dbf09098b33422c8b1062cf6e8da6de": {
     "views": []
    },
    "5e1c5e0f2a0040b982bfec1697178008": {
     "views": []
    },
    "5f018a09ccc648eda0c59f6d7227f597": {
     "views": []
    },
    "5f3e6e6210a740b3a5b10860e9c7b9c6": {
     "views": []
    },
    "5f4d47b3e44b49e8912bea7da1b2b51a": {
     "views": [
      {
       "cell_index": 9
      }
     ]
    },
    "5fbe83e30e6e4f8f95a7ca000ae219a2": {
     "views": []
    },
    "6069b3045c234339ab755180bfa3984c": {
     "views": []
    },
    "621a0877f0ef4231a9bc5e4b5560743e": {
     "views": []
    },
    "62abddb03b8a4a359c496f711e8ad665": {
     "views": []
    },
    "62d68bb442f44ff4b4235c39899ebd0e": {
     "views": []
    },
    "6307fb7efae943a9b170c7c0a1dab002": {
     "views": []
    },
    "6350bb58e5f9494496065d5f83a85912": {
     "views": []
    },
    "6356cd537b0142cf848b25120f0a6241": {
     "views": []
    },
    "6388fd373da647ef9f713ace61d69cef": {
     "views": [
      {
       "cell_index": 9
      }
     ]
    },
    "63d9df3aa00a485593e5437c6c8be7ed": {
     "views": []
    },
    "6401b241eacd48d1beb76495660043a7": {
     "views": []
    },
    "642a753c5d7f428681b8e699b77eff48": {
     "views": []
    },
    "64632c2d64ed40fb963abbd2d21f0c45": {
     "views": []
    },
    "64b5da60c43847bf8e4a26f9d7ef7135": {
     "views": []
    },
    "64c82dc551eb45c5b1d478ed0f7db74b": {
     "views": []
    },
    "65a1821debcf4d50bbc9fdf3955c44b9": {
     "views": []
    },
    "65bb6f3526284c918d2e4786e4022c82": {
     "views": []
    },
    "661ad92e5006473883121ffc53bb3520": {
     "views": []
    },
    "66bb702ee3e04170a43b6710b3fa47f8": {
     "views": []
    },
    "673aa338d011447da35828eeb1bbd5cd": {
     "views": []
    },
    "675231cd089748e5bc51117bd0a59892": {
     "views": []
    },
    "675392555c5340c5bde00dedc24823c5": {
     "views": [
      {
       "cell_index": 8
      }
     ]
    },
    "678c4b8c2eb9430fa7bd44514f228cac": {
     "views": []
    },
    "67d5837000e040fca9ebabaf6f800b03": {
     "views": []
    },
    "67d96fd4fe534ce9b48060f9c25a4656": {
     "views": []
    },
    "689a9a95fa394df09f786526ce94e6f9": {
     "views": [
      {
       "cell_index": 8
      }
     ]
    },
    "692bba5da6f64d9f93c5d5b68c26a2aa": {
     "views": []
    },
    "69a9f9ab90484913b99e64e3d175bd33": {
     "views": []
    },
    "6a3eefb4495d4c20a6b907637242ed7c": {
     "views": []
    },
    "6a8beeba814c4a3095a4eafbf6556861": {
     "views": []
    },
    "6af0093217a64faeb88dd01d9409a02e": {
     "views": []
    },
    "6bac8b8d303f426096ad014236c6c037": {
     "views": []
    },
    "6bd92bbe311749468c9e14b641d202c0": {
     "views": []
    },
    "6c2b0de7ec9a4db3af9863467f7a884e": {
     "views": []
    },
    "6cd132b2fffc46f0b74b741a9e1843ae": {
     "views": []
    },
    "6de50227662749f99aad4a3e1b8471bb": {
     "views": []
    },
    "6e42f41df9314a93afc7cde1e7c6cdb5": {
     "views": [
      {
       "cell_index": 9
      }
     ]
    },
    "6eaadff4f1474543aa8350cea89899f7": {
     "views": []
    },
    "6effdd8314fe44609eaf6540222fabc6": {
     "views": []
    },
    "701a0386935649a582d786367863f770": {
     "views": []
    },
    "7182cb7edcc34d6bb0721063b64c4767": {
     "views": []
    },
    "72797c2215e24c909e264924676005e4": {
     "views": []
    },
    "727d40359eab4df2adb0aa239d66bfa3": {
     "views": []
    },
    "7281201897c546819636f56c2795ddb9": {
     "views": []
    },
    "74517b0c401f4cb3bbce3e59a2095c47": {
     "views": []
    },
    "74a78cc82d7a4a76b7bf7afa020a3f08": {
     "views": []
    },
    "75c877dabf3f4e02ad91563b6c02a79f": {
     "views": []
    },
    "77b77466ae6446eaa51f391411de5866": {
     "views": []
    },
    "784474fd18fd4202ba12772ff5562c56": {
     "views": []
    },
    "7a5a57b743fe486ab32f4d8c45b23040": {
     "views": [
      {
       "cell_index": 9
      }
     ]
    },
    "7b2a25c659f24f24aeb7558c389e8b5a": {
     "views": []
    },
    "7b455e8dcfb1481ca225f9441441ca21": {
     "views": []
    },
    "7ba11af6e3df4c43a40677c77bc94f85": {
     "views": []
    },
    "7ca18965da20466098493797d72df8d9": {
     "views": []
    },
    "7cafefeeb23b48ebb3f6b1f79e2ef1f0": {
     "views": []
    },
    "7e28c9af43b14d94beb6a245d6582dfc": {
     "views": []
    },
    "7eac2a8380754c07b2652bd1e3ca8a53": {
     "views": []
    },
    "7f208750333d44c893892d9858d5ab91": {
     "views": []
    },
    "7f53e5939c934a04a73946274a189e4c": {
     "views": []
    },
    "7f66750972504f7a9a4b9c49698c0cd4": {
     "views": []
    },
    "7fd017fdee774bd593fd86489f129c02": {
     "views": [
      {
       "cell_index": 9
      }
     ]
    },
    "8191b3cb733a4b5dbc030b9e5f406a7e": {
     "views": []
    },
    "81f16b5196854b08a333a55ecda9299e": {
     "views": []
    },
    "82065ffd787e455fa9353644fad546ab": {
     "views": []
    },
    "83174628830d4c09906bd24a99ddafe9": {
     "views": []
    },
    "8326dff139d14f2a9e885a37e54edea1": {
     "views": []
    },
    "84003f7894694fdda79add8b3ce70969": {
     "views": []
    },
    "841b45cfd8bb45cd8135a4179a372ad8": {
     "views": []
    },
    "8569d5af83314683ae1ee88c7ef139ab": {
     "views": []
    },
    "861b1bb87a9d48db9cdd03dd30d541dd": {
     "views": [
      {
       "cell_index": 8
      }
     ]
    },
    "8643b6822c824aefa649bc22edfcfced": {
     "views": []
    },
    "8795dc8a3f914828ae2f4c8fe127af3d": {
     "views": []
    },
    "87dba20984a440199798d21cde3767c6": {
     "views": []
    },
    "87f35da7be014ff9a2fb45996e667091": {
     "views": []
    },
    "8a012177359d47a29624a24ef3a2733a": {
     "views": []
    },
    "8ac6a15bc94742e79d0d8076a647e5a2": {
     "views": []
    },
    "8b30c7b69a7c49c996b30a0e15a2b9e5": {
     "views": []
    },
    "8b67ac5c7bbc45cfb5f71efe6304c163": {
     "views": []
    },
    "8b8aa1d23a6a4c7e875c9deb2de55300": {
     "views": []
    },
    "8bbd4e1778014fb0928b7c1719cf2ac1": {
     "views": []
    },
    "8dcdedc2a0204a009c8f0de090dd5629": {
     "views": []
    },
    "8e28fe4c97334b14bb90cd1cd0349187": {
     "views": []
    },
    "8ea13e77113a4885b42056f0e7884e77": {
     "views": []
    },
    "8f286fe1e9004f4aa6b4f19f0771d679": {
     "views": []
    },
    "8f867d7aa0104827bae7a083ab9b703f": {
     "views": []
    },
    "8fadbe5329e24e3087018ed7af45cd16": {
     "views": [
      {
       "cell_index": 8
      }
     ]
    },
    "9072f9b198774bbb86a2c4d927781aeb": {
     "views": []
    },
    "925cbf9a2efb47ddb9488d71a8cbc3ad": {
     "views": []
    },
    "93980be0359442fa928bfdbb3a5327a8": {
     "views": []
    },
    "943fa56e7c354fcd9d4f8cd3cf7c5f1a": {
     "views": []
    },
    "9464520c9efb441ba7e4f71ef4c85608": {
     "views": []
    },
    "94df65c1aa8c4dadaa145763d279ee4a": {
     "views": []
    },
    "95ee91d305b54cb881349ddc79557a57": {
     "views": []
    },
    "96152eb6e48f4cc0970a6f4ca6037e29": {
     "views": []
    },
    "961c53cc0d6747a2b26574e3ea3535d3": {
     "views": []
    },
    "96da144fa5ab45c5801ebc71225da683": {
     "views": []
    },
    "97ef01ca3ff344cfb38aeb34c792bd8b": {
     "views": []
    },
    "987546c7840946959c71bd27e503756f": {
     "views": [
      {
       "cell_index": 9
      }
     ]
    },
    "9883b71ec7924cce98733badc4a8f943": {
     "views": []
    },
    "9a8b3db5e9dd439783ffeebec9c8b5bf": {
     "views": []
    },
    "9aeabee8fef1431d83cedbf923052d7f": {
     "views": []
    },
    "9b62c1b518114d69bc3d6d7b169575df": {
     "views": []
    },
    "9b6cea1dedd7463ab72cd4d643452dab": {
     "views": []
    },
    "9c2b61c4fa764ed0aab1e37e49378041": {
     "views": []
    },
    "9d18114b5e7c43afb29aff752a7baf7f": {
     "views": []
    },
    "9d40bc6022e348a997bdb2943c3637be": {
     "views": []
    },
    "9d619628d08d42429be5e44e915ca95a": {
     "views": []
    },
    "9e79dab2c72c4688854851f6142e61a2": {
     "views": []
    },
    "9ec22bd3a9fe4c36b90e50801c70b03b": {
     "views": []
    },
    "9f7715a349f84ff89fa8cad2b901dbe0": {
     "views": []
    },
    "9f973330cffe4e228f6ef2340f8c9c09": {
     "views": []
    },
    "9fb09186bef446ccab9a60a217180217": {
     "views": []
    },
    "a0867752f2494325aade3f263d668d2f": {
     "views": []
    },
    "a0aa74babf6946f685e7ad5ab3c53ebd": {
     "views": []
    },
    "a154c608c8d14ccaa6fd98f839339687": {
     "views": []
    },
    "a21f58f67ea446f7840e64d77ddad814": {
     "views": []
    },
    "a27376cbc06f44a8a4d17dd90872c4bc": {
     "views": []
    },
    "a2c9b2ae62ad49ac9be93db2c6174d2d": {
     "views": []
    },
    "a31e43f82605435ebe6ffe74135a46af": {
     "views": []
    },
    "a4ae8ceb55664dafa5049d915d691e70": {
     "views": []
    },
    "a58fd4ca94aa4c7cbd21a59ce977c3f7": {
     "views": []
    },
    "a5a6b415234d45f7b6d8d7790470b44c": {
     "views": []
    },
    "a63c14f5919647a5be8a11cb33f777e2": {
     "views": []
    },
    "a66846bcdf7140a984a97fa0bf67ea3c": {
     "views": []
    },
    "a66e7eb2379e4d73abd6043f8f21fc27": {
     "views": []
    },
    "a68bb8abdf1c434fb4a179bc0cd31f71": {
     "views": []
    },
    "a80052d8187247cead9e9ae27b7957b6": {
     "views": []
    },
    "a80d69bb7a03446e80bd1c1b5133f41b": {
     "views": []
    },
    "a8a927f861294d4681529d4917d2dcfb": {
     "views": []
    },
    "a925b7f4f6fc470093c828937b999a90": {
     "views": []
    },
    "a9a467adc62f417fa716a977e2df590e": {
     "views": []
    },
    "aa826109bb734c2abcb6f6ad686ab73f": {
     "views": []
    },
    "acc7ac7a142840b0bc4d946c5a294ef2": {
     "views": []
    },
    "ad03884b236a44d288df352e4309f82d": {
     "views": []
    },
    "b173f65559914d2682e0cd76c743d52b": {
     "views": []
    },
    "b2559a017b7d4531a78c6a879e7518c9": {
     "views": []
    },
    "b274694098f148e391cf188f2243da7f": {
     "views": []
    },
    "b2921e7ad27d42e592d8f1e215f9bce8": {
     "views": []
    },
    "b31b7d009c6c44b5a7f4a717aeb8668c": {
     "views": []
    },
    "b35dd561734e46a79af05031da9dffc6": {
     "views": []
    },
    "b3801aac076241cab5e1a19232829ca9": {
     "views": []
    },
    "b396c2c3189349cdbc536a3d2686cf2b": {
     "views": []
    },
    "b586ec503ab14d60a9900387258c4348": {
     "views": []
    },
    "b5a62d0efa74488db9d35fcc691465ee": {
     "views": []
    },
    "b5ec7ae055504782b20332fcd235b826": {
     "views": []
    },
    "b71e034a6cfe484cb3da4e73df8d3d14": {
     "views": []
    },
    "b7de243c3d404d98b5c09d2053a4f6c2": {
     "views": []
    },
    "b8146e57f91e4d5dbe80798e4f31d926": {
     "views": []
    },
    "b95944856e3b45cc80fe7271e5d130fe": {
     "views": []
    },
    "b9aabbda566d4f129709d66de0cf4f80": {
     "views": [
      {
       "cell_index": 9
      }
     ]
    },
    "ba2607dc8c7040769c206e5c342d52aa": {
     "views": [
      {
       "cell_index": 8
      }
     ]
    },
    "baa0ba0a85714a5e8f311c5bd23c818a": {
     "views": []
    },
    "bb05019959d245258e9057e43dec311c": {
     "views": []
    },
    "bd4070bc85b04af284fcc3ca6cfbfe51": {
     "views": []
    },
    "be0f0694b7bd49e1af49ef75ae5159d5": {
     "views": []
    },
    "be5ef6b43c7a45ddbb0c7b90f7c0521d": {
     "views": []
    },
    "bf4bec0734cc47c9ae6a325fed5099ce": {
     "views": []
    },
    "c072a82ab0f244568880eef09b75e822": {
     "views": []
    },
    "c0ec1c483901463aa6ee2176424fe89b": {
     "views": []
    },
    "c1c7babf84bb467eaffaf2f4065c6bc9": {
     "views": [
      {
       "cell_index": 9
      }
     ]
    },
    "c27ee1d784e34233829d8e4d7aa560e8": {
     "views": []
    },
    "c315f02691f840aca58e7b1e5c659b48": {
     "views": []
    },
    "c316652674864e679230429616365554": {
     "views": []
    },
    "c37eaf7595d14f48882690789d33c3b9": {
     "views": []
    },
    "c3eb2bd9e7a14811befea3d2a216f857": {
     "views": []
    },
    "c41e1e69c00243d5b1bb6f260be5d7cc": {
     "views": []
    },
    "c4509a919d904223b57d51032b70a017": {
     "views": []
    },
    "c4ccab26a95f466aab65d2aef8fe867e": {
     "views": []
    },
    "c4db7f69929a4512b97b23b3206c53ae": {
     "views": []
    },
    "c58d2d8efcae4ccdaab2a57d23e917d6": {
     "views": []
    },
    "c5b8008c2b2246b0a0a3adbd61f269cf": {
     "views": []
    },
    "c607ffd993bd4abb9a957ce0f3204fe5": {
     "views": []
    },
    "c7203f36e8564d3da20d33cb50e8abe4": {
     "views": []
    },
    "c7236d5d34fc46409db1f5382bc5ba81": {
     "views": []
    },
    "c76bc1a098df41609e7fa91b7fd848ff": {
     "views": [
      {
       "cell_index": 8
      }
     ]
    },
    "c855f1c293e44d8f902e5da6a84d12c7": {
     "views": []
    },
    "c86f6b6923e948718100e30edbc15bb4": {
     "views": []
    },
    "c902f9ca833046d4a468d7c9c9978d1a": {
     "views": []
    },
    "c92bd1aa5b4743cfa7a8b558d36e39f8": {
     "views": []
    },
    "ca2dc8c8a1dc4f9587020d3f9cd0eb30": {
     "views": []
    },
    "ca6e658a7b0b47369877fcb22570dacf": {
     "views": []
    },
    "caa3b47a60454c9ebe01dd6c2fbb8059": {
     "views": [
      {
       "cell_index": 8
      }
     ]
    },
    "cb04f284e72e4ec3a671725d0586e408": {
     "views": []
    },
    "cb496ee5e9d74126ad47eb55707b7451": {
     "views": []
    },
    "cbad17b22f1148ea8db7d270fbc73876": {
     "views": []
    },
    "cbd42567436b4eb7b773dfce407f6e11": {
     "views": []
    },
    "cc53bf680f8042bc9a8bfc2fe3c4c60e": {
     "views": []
    },
    "cc6ebba2951447e88fd7abe10a9a094c": {
     "views": []
    },
    "cd06de98297d43e78d81135dea4e0ed9": {
     "views": []
    },
    "cd0ce58063044626bc32e5c21645765c": {
     "views": []
    },
    "ce0370b62df04bda88b444723e5841ed": {
     "views": []
    },
    "cf7ce3839dd44aaba3045fb19d049e7a": {
     "views": []
    },
    "cf925d97a6b7443182ca6127a006d307": {
     "views": [
      {
       "cell_index": 8
      }
     ]
    },
    "d0396ebab37448d0b06612f22a05a7d3": {
     "views": []
    },
    "d1519a3e9cb9471e941860935bf0c034": {
     "views": []
    },
    "d26a1a7aac154f919dd7315e2c042551": {
     "views": []
    },
    "d28fbc2b95e24a48a37bd91c96ac5fa8": {
     "views": []
    },
    "d478e500a09a4fb59f425ee8c39ad583": {
     "views": []
    },
    "d4e0f482017d4819a8ac69fd1862ef71": {
     "views": []
    },
    "d55862988c7d410abb339f4d973d58d0": {
     "views": []
    },
    "d5d0ff5ca824400a9d14114e5c199118": {
     "views": []
    },
    "d61572b4546a4eee8bf69205fe3d748c": {
     "views": []
    },
    "d7ddd23a128f4994afb7a2866cc83bf9": {
     "views": []
    },
    "d856f1ba9b9b45e894a93ccf0d6aeea8": {
     "views": []
    },
    "d88485967c4b40be9dfa07dbf1410637": {
     "views": []
    },
    "d96084d409c143e09c3a3200390857e0": {
     "views": []
    },
    "d96d8499c3a145229b8c7df072949b8c": {
     "views": []
    },
    "d9b5657d948f4f40941c9a27a322049f": {
     "views": []
    },
    "da5f0a909f6b4b4cb5258682c33c8f14": {
     "views": [
      {
       "cell_index": 9
      }
     ]
    },
    "daa93de8f6aa4419b006e067438144c1": {
     "views": []
    },
    "dab98c592af7498997c0991787f8e33f": {
     "views": []
    },
    "db70faf739744fa3a5fe5fe4be70624e": {
     "views": []
    },
    "dbb4f7a2a67142af9cf6f59be9721cc6": {
     "views": [
      {
       "cell_index": 9
      }
     ]
    },
    "dc5c88888e59462ab1d1a06df897b7f3": {
     "views": []
    },
    "dcba24481b244a79a1b5f8322bf7e0d6": {
     "views": []
    },
    "de128a4a95ef4094a20d1dfc9b3da308": {
     "views": []
    },
    "dee8075187534a1a8a140ebcaf901787": {
     "views": []
    },
    "dfa782fc2ab64ba29e25f27277a75e0d": {
     "views": []
    },
    "e02e68a9b7ee42c28bd47e24430ca9dd": {
     "views": []
    },
    "e03f9984e4d5435ea4b1c2e85d1da2ab": {
     "views": []
    },
    "e129ffe172e042a2b273412665f128ad": {
     "views": []
    },
    "e22f79725aac45d4bd56b294d10fd6da": {
     "views": []
    },
    "e2cdd86ba3e7490888362a088abe17a7": {
     "views": []
    },
    "e2f651e70d4a49ec87e2a8ba8ea17cd9": {
     "views": [
      {
       "cell_index": 9
      }
     ]
    },
    "e3424ca13e7445c29429932e02b015cb": {
     "views": []
    },
    "e352ca45fbb7451f8f5b2512300510d1": {
     "views": []
    },
    "e55f79a87c504007b04ef2221b0a095b": {
     "views": []
    },
    "e563d5dfb8b54d83801769820f98dc6b": {
     "views": []
    },
    "e57abfd31e5a424985e1279602794286": {
     "views": []
    },
    "e59e956d913b4c2cbe1b19b01f60928c": {
     "views": []
    },
    "e648740d0ef245b6a7936dfba48fa963": {
     "views": []
    },
    "e68f868e78f44f9780734ff7353f1887": {
     "views": []
    },
    "e6ae550495e44281bc291830884c6107": {
     "views": []
    },
    "e6dbe304aa5b4f5ba8e5545b212ad679": {
     "views": []
    },
    "e7159f2a94fb44c68ca27344c42ecda2": {
     "views": []
    },
    "e741af7b304f4da29e0d579fcae049fe": {
     "views": []
    },
    "e76929339b4746449ad773d70a1f6a32": {
     "views": []
    },
    "e7d40d3f3cca44a58c9497d5ae6b122f": {
     "views": []
    },
    "e7f246bfa6b74f34b6f7def80cc5be45": {
     "views": []
    },
    "e83c6095c01844d39e79d7599aa58db6": {
     "views": []
    },
    "e8739fe62bc045d7bfca7dacc6bb8ab9": {
     "views": []
    },
    "e9637bc998e941d8b3d91355ba201058": {
     "views": []
    },
    "ea1752573896456084ea1aa58fb21072": {
     "views": []
    },
    "eaf3f92965014f0cbe181308b8c16311": {
     "views": []
    },
    "eb656e3d8a124e53aa29ab0b7b6640d7": {
     "views": []
    },
    "ec13ffc0477a4611b0f619d6bc3d433d": {
     "views": []
    },
    "ecc1a31f40204f6084e13391126ccf6f": {
     "views": []
    },
    "ed34b743afb840df8be4d139868cf91d": {
     "views": []
    },
    "eda7980b6419475cb67b22d023c774f8": {
     "views": []
    },
    "eee7688d4288471b88664d0ae2c685a1": {
     "views": []
    },
    "ef6625e1b7424aa7a3786671ddef4970": {
     "views": []
    },
    "efdaabd13d054734b12dab9c3e8f9c80": {
     "views": []
    },
    "f11794f04fac4fbe8ced2750ade266d1": {
     "views": []
    },
    "f1856d5f71464a88bb2cad3f338cdab8": {
     "views": []
    },
    "f23c2a423c2b46caa7fa15562a5dc544": {
     "views": []
    },
    "f25129a0700445deb70986524c995306": {
     "views": []
    },
    "f27559f33f89482990a9ef1a5efe08a8": {
     "views": []
    },
    "f304c3d1a01541e6b78e422e2067fe42": {
     "views": []
    },
    "f3ac2977d5cc49d4bebcafab8290080c": {
     "views": []
    },
    "f3cd5895b8d64e27aa8c7c9e1bfe2a80": {
     "views": []
    },
    "f4ae831b4b1240b59172c56a8c2c36ab": {
     "views": []
    },
    "f4dbdbd8caa244468731984b3e7e4f00": {
     "views": []
    },
    "f4de321437d14f9dbf52891c6a56f132": {
     "views": []
    },
    "f4e8742230164593a31d91cc5f4e60df": {
     "views": [
      {
       "cell_index": 8
      }
     ]
    },
    "f5bd611b7ddb45e2873c3dc4ebd07936": {
     "views": []
    },
    "f5c91566368346bf933eebf8034a81fd": {
     "views": []
    },
    "f7bdbc380aa946fca9044ae3639783eb": {
     "views": []
    },
    "f7e78733fc9248c7ab89b578b99a7351": {
     "views": []
    },
    "f7ef739a7acf4cb3bd59e608d804965f": {
     "views": []
    },
    "f8f137f968b64d53a46df6d8ff5ab6e9": {
     "views": []
    },
    "f9303013fae84a9db99f916fb3695cfb": {
     "views": []
    },
    "f9d4d95a030a4eb1aeaa791b18f22c00": {
     "views": [
      {
       "cell_index": 9
      }
     ]
    },
    "faf5251e6d62479ba413b8b7a65f3ae5": {
     "views": []
    },
    "fcf229c974b04672bcc2e1dfabd4fff2": {
     "views": [
      {
       "cell_index": 8
      }
     ]
    },
    "fda35bbe8eec49949b41c910da8798e3": {
     "views": []
    },
    "fe7943c7cf0d4895982c7dd5a431d788": {
     "views": []
    },
    "febf60548fef41529e354125a5930bb7": {
     "views": []
    },
    "ff2e2ad28c7f4a4b8d3599fb116b52b7": {
     "views": []
    }
   },
   "version": "1.1.2"
  }
 },
 "nbformat": 4,
 "nbformat_minor": 2
}
